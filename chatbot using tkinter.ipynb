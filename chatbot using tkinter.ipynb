{
 "cells": [
  {
   "cell_type": "code",
   "execution_count": 1,
   "id": "41b3693e",
   "metadata": {},
   "outputs": [
    {
     "name": "stdout",
     "output_type": "stream",
     "text": [
      "Requirement already satisfied: nltk in c:\\programdata\\anaconda3\\lib\\site-packages (3.8.1)\n",
      "Requirement already satisfied: click in c:\\programdata\\anaconda3\\lib\\site-packages (from nltk) (8.0.4)\n",
      "Requirement already satisfied: joblib in c:\\programdata\\anaconda3\\lib\\site-packages (from nltk) (1.2.0)\n",
      "Requirement already satisfied: regex>=2021.8.3 in c:\\programdata\\anaconda3\\lib\\site-packages (from nltk) (2022.7.9)\n",
      "Requirement already satisfied: tqdm in c:\\programdata\\anaconda3\\lib\\site-packages (from nltk) (4.65.0)\n",
      "Requirement already satisfied: colorama in c:\\programdata\\anaconda3\\lib\\site-packages (from click->nltk) (0.4.6)\n",
      "Note: you may need to restart the kernel to use updated packages.\n"
     ]
    }
   ],
   "source": [
    "pip install nltk\n"
   ]
  },
  {
   "cell_type": "code",
   "execution_count": null,
   "id": "b27f98ca",
   "metadata": {},
   "outputs": [],
   "source": [
    "import tkinter as tk\n",
    "from tkinter import scrolledtext\n",
    "import random\n",
    "import re\n",
    "\n",
    "# Rule-based chatbot function\n",
    "def chatbot_response(user_input):\n",
    "    rules = [\n",
    "        [r\"hi|hello|hey\", [\"Hello! ACE Students\", \"Hi ACE Students!\", \"Hey! ACE Students, How can I help you?\"]],\n",
    "        [r\"how are you\\?\", [\"I'm just a bot, but I'm doing great!\", \"I'm doing well, thanks for asking!\"]],\n",
    "        [r\"who are you\\?\", [\"I am a chatbot here to assist you.\", \"I am ChatBot, your virtual assistant!\"]],\n",
    "        [r\"what is your name\\?\", [\"I am a chatbot. You can call me ChatBot!\", \"My name is ChatBot.\"]],\n",
    "        [r\"who created you\\?\", [\"I was created by a programmer who can assist you.\", \"I am just a basic chatbot, no real creator!\"]],\n",
    "        [r\"bye|goodbye\", [\"Goodbye!\", \"Have a great day!\", \"Bye! Enjoy your day.\"]],\n",
    "        \n",
    "        # Exam-related Questions\n",
    "        [r\"when is the exam\\?\", [\"Check your university/college website for the latest exam schedule.\", \"You can ask your professor or check the notice board for the exam date.\"]],\n",
    "        [r\"how to manage time for studies\\?\", [\"Make a timetable and stick to it. Prioritize important subjects.\", \"Use the Pomodoro technique: 25 minutes study, 5 minutes break.\"]],\n",
    "        [r\"how to avoid exam stress\", [\"Relax, take breaks, and practice mindfulness. A healthy mind performs better.\", \"Believe in yourself and stay positive!\"]],\n",
    "        \n",
    "        # Assignment and Project Help\n",
    "        [r\"how to complete my assignment\", [\"Start early, break it into smaller tasks, and research properly.\", \"Seek help from teachers or online resources if needed.\"]],\n",
    "        [r\"can you help me with my project\\?\", [\"Sure! What is your project about?\", \"I'd be happy to guide you. Tell me more about your project.\"]],\n",
    "        \n",
    "        # Motivation and Encouragement\n",
    "        [r\"i feel stressed\", [\"Take a deep breath. You’re doing great!\", \"It’s okay to feel stressed. Take breaks and keep going.\"]],\n",
    "        [r\"i am not able to focus\", [\"Try studying in a quiet place and eliminate distractions.\", \"Break tasks into smaller goals and take short breaks.\"]],\n",
    "        [r\"i failed in my exam\", [\"Failure is just a step towards success. Learn from mistakes and try again!\", \"Don’t be discouraged. Every failure is a learning opportunity.\"]],\n",
    "    ]\n",
    "\n",
    "    user_input = user_input.lower()\n",
    "\n",
    "    for pattern, responses in rules:\n",
    "        if re.search(pattern, user_input):\n",
    "            return random.choice(responses)  # Pick a random response\n",
    "\n",
    "    return \"Sorry, I don't understand that. Can you rephrase?\"  # Default response\n",
    "\n",
    "# Function to handle user input\n",
    "def send_message():\n",
    "    user_input = entry.get()\n",
    "    if user_input:\n",
    "        chat_window.insert(tk.END, \"You: \" + user_input + \"\\n\", \"user\")\n",
    "        response = chatbot_response(user_input)\n",
    "        chat_window.insert(tk.END, \"Bot: \" + response + \"\\n\", \"bot\")\n",
    "        entry.delete(0, tk.END)\n",
    "\n",
    "# GUI Setup\n",
    "root = tk.Tk()\n",
    "root.title(\"Rule-Based Chatbot\")\n",
    "\n",
    "chat_window = scrolledtext.ScrolledText(root, wrap=tk.WORD, width=50, height=20, font=(\"Arial\", 12))\n",
    "chat_window.pack(padx=10, pady=10)\n",
    "chat_window.tag_config(\"user\", foreground=\"blue\")\n",
    "chat_window.tag_config(\"bot\", foreground=\"green\")\n",
    "\n",
    "entry = tk.Entry(root, font=(\"Arial\", 12), width=40)\n",
    "entry.pack(padx=10, pady=5)\n",
    "send_button = tk.Button(root, text=\"Send\", command=send_message, font=(\"Arial\", 12))\n",
    "send_button.pack(pady=5)\n",
    "\n",
    "root.mainloop()\n"
   ]
  },
  {
   "cell_type": "code",
   "execution_count": null,
   "id": "ef14ef1c",
   "metadata": {},
   "outputs": [],
   "source": []
  },
  {
   "cell_type": "code",
   "execution_count": null,
   "id": "854232fe",
   "metadata": {},
   "outputs": [],
   "source": []
  }
 ],
 "metadata": {
  "kernelspec": {
   "display_name": "Python 3 (ipykernel)",
   "language": "python",
   "name": "python3"
  },
  "language_info": {
   "codemirror_mode": {
    "name": "ipython",
    "version": 3
   },
   "file_extension": ".py",
   "mimetype": "text/x-python",
   "name": "python",
   "nbconvert_exporter": "python",
   "pygments_lexer": "ipython3",
   "version": "3.11.5"
  }
 },
 "nbformat": 4,
 "nbformat_minor": 5
}
