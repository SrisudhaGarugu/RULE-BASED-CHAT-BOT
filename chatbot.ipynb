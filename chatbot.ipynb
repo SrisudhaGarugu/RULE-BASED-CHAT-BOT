{
 "cells": [
  {
   "cell_type": "code",
   "execution_count": 27,
   "id": "1a8f38d7",
   "metadata": {},
   "outputs": [],
   "source": [
    "# CHATBOT USING FLASK\n",
    "import re\n",
    "import random\n",
    "\n",
    "def chatbot_response(user_input):\n",
    "    responses = [\n",
    "        (r\"hi|hello|hey\", [\"Hello! ACE Students\", \"Hi ACE Students!\", \"Hey! ACE Students, How can I help you?\"]),\n",
    "        (r\"how are you\\?\", [\"I'm just a bot, but I'm doing great!\", \"I'm doing well, thanks for asking!\"]),\n",
    "        (r\"who are you\\?\", [\"I am a chatbot here to assist you.\", \"I am ChatBot, your virtual assistant!\"]),\n",
    "        (r\"what is your name\\?\", [\"I am a chatbot. You can call me ChatBot!\", \"My name is ChatBot.\"]),\n",
    "        (r\"who created you\\?\", [\"I was created by a programmer who can assist you.\", \"I am just a basic chatbot, no real creator!\"]),\n",
    "        (r\"bye|goodbye\", [\"Goodbye!\", \"Have a great day!\", \"Bye! Enjoy your day.\"]),\n",
    "\n",
    "        # Exam-related Questions\n",
    "        (r\"when is the exam\\?\", [\"Check your university/college website for the latest exam schedule.\", \"You can ask your professor or check the notice board for the exam date.\"]),\n",
    "        (r\"how to manage time for studies\\?\", [\"Make a timetable and stick to it. Prioritize important subjects.\", \"Use the Pomodoro technique: 25 minutes study, 5 minutes break.\"]),\n",
    "        (r\"how to avoid exam stress\", [\"Relax, take breaks, and practice mindfulness. A healthy mind performs better.\", \"Believe in yourself and stay positive!\"]),\n",
    "\n",
    "        # Assignment and Project Help\n",
    "        (r\"how to complete my assignment\", [\"Start early, break it into smaller tasks, and research properly.\", \"Seek help from teachers or online resources if needed.\"]),\n",
    "        (r\"can you help me with my project\\?\", [\"Sure! What is your project about?\", \"I'd be happy to guide you. Tell me more about your project.\"]),\n",
    "\n",
    "        # Motivation and Encouragement\n",
    "        (r\"i feel stressed\", [\"Take a deep breath. You’re doing great!\", \"It’s okay to feel stressed. Take breaks and keep going.\"]),\n",
    "        (r\"i am not able to focus\", [\"Try studying in a quiet place and eliminate distractions.\", \"Break tasks into smaller goals and take short breaks.\"]),\n",
    "        (r\"i failed in my exam\", [\"Failure is just a step towards success. Learn from mistakes and try again!\", \"Don’t be discouraged. Every failure is a learning opportunity.\"]),\n",
    "    ]\n",
    "\n",
    "    user_input = user_input.lower()\n",
    "    \n",
    "    # Check for matching patterns\n",
    "    for pattern, responses_list in responses:\n",
    "        if re.search(pattern, user_input):\n",
    "            return random.choice(responses_list)\n",
    "\n",
    "    return \"I'm sorry, I don't understand that. Can you rephrase?\"\n"
   ]
  },
  {
   "cell_type": "code",
   "execution_count": 2,
   "id": "c2bbfb64",
   "metadata": {},
   "outputs": [
    {
     "data": {
      "text/plain": [
       "0"
      ]
     },
     "execution_count": 2,
     "metadata": {},
     "output_type": "execute_result"
    }
   ],
   "source": [
    "import os\n",
    "os.system('jupyter nbconvert --to script \"chatbot.ipynb\"')\n"
   ]
  },
  {
   "cell_type": "code",
   "execution_count": 1,
   "id": "ec2aa309",
   "metadata": {},
   "outputs": [],
   "source": [
    "# python app.py in cmd prompt"
   ]
  },
  {
   "cell_type": "code",
   "execution_count": null,
   "id": "dd7d65d9",
   "metadata": {},
   "outputs": [],
   "source": [
    "# Now, open your web browser and visit:\n",
    "# 👉 http://127.0.0.1:5000/"
   ]
  },
  {
   "cell_type": "code",
   "execution_count": null,
   "id": "133cf77f",
   "metadata": {},
   "outputs": [],
   "source": []
  }
 ],
 "metadata": {
  "kernelspec": {
   "display_name": "Python 3 (ipykernel)",
   "language": "python",
   "name": "python3"
  },
  "language_info": {
   "codemirror_mode": {
    "name": "ipython",
    "version": 3
   },
   "file_extension": ".py",
   "mimetype": "text/x-python",
   "name": "python",
   "nbconvert_exporter": "python",
   "pygments_lexer": "ipython3",
   "version": "3.11.5"
  }
 },
 "nbformat": 4,
 "nbformat_minor": 5
}
